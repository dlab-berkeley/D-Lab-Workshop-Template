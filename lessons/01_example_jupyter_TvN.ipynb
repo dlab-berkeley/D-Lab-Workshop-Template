{
 "cells": [
  {
   "cell_type": "markdown",
   "metadata": {},
   "source": [
    "# Title of Notebook [EDIT ME]\n",
    "\n",
    "* * * \n",
    "\n",
    "### Icons used in this notebook\n",
    "🔔 **Question**: A quick question to help you understand what's going on.<br>\n",
    "🥊 **Challenge**: Interactive excersise. We'll work through these in the workshop!<br>\n",
    "💭 **Reflection**: Helping you think about programming.<br>\n",
    "⚠️ **Warning**: Heads-up about tricky stuff or common mistakes.<br>\n",
    "💡 **Tip**: How to do something a bit more efficiently or effectively.<br>\n",
    "🎬 **Demo**: Showing off something more advanced – so you know what Python can be used for!<br>\n",
    "\n",
    "### Learning Objectives\n",
    "1. [Section Name - EDIT ME](#section1)\n",
    "2. [Section Name - EDIT ME](#section2)\n",
    "3. [Reflection: [Title of Reflection] - EDIT ME](#refl)\n",
    "4. [Demo: [Title of Demo] - EDIT ME](#demo)"
   ]
  },
  {
   "cell_type": "markdown",
   "metadata": {
    "tags": []
   },
   "source": [
    "<a id='section1'></a>\n",
    "\n",
    "# Section Name [EDIT ME]\n",
    "\n",
    "Main sections should be an H1 (one hashtag) header. They are linked to in the Learning Objectives. Use `<a id='section_name'></a>` at the top of the markdown cell to create the link. Capitalize Each Word for section headers. "
   ]
  },
  {
   "cell_type": "markdown",
   "metadata": {},
   "source": [
    "Be sure to have text between code cells explaining the material, step-by-step.\n",
    "\n",
    "Tips for markdown cells:\n",
    "- Keep text limited! \n",
    "- Use colloquial languague and minimal jargon; if you need it, explain it.\n",
    "- Use **boldface** to highlight important terms, but use it sparingly.\n",
    "- Use en-dash for lists.\n",
    "- Consistently use emoji for relevant sections. Here are some examples:"
   ]
  },
  {
   "cell_type": "code",
   "execution_count": 3,
   "metadata": {},
   "outputs": [],
   "source": [
    "# Code cells\n",
    "\n",
    "# Comments:\n",
    "# Use comments sparingly: better to explain in markdown!\n",
    "# Use comments to further specify particular lines of code when needed.\n",
    "\n",
    "# Coding style: \n",
    "# Use snake case and single quotation marks.\n",
    "some_variable = 'Hello world'\n",
    "\n",
    "# Data: \n",
    "# use relevant social science datasets whenever you can. \n",
    "# Think health data, demographics, etc.\n",
    "# Stay away from \"impersonal\" datasets like the Iris dataset.\n",
    "# Use a \"data\" folder in the main repo to store data"
   ]
  },
  {
   "cell_type": "code",
   "execution_count": null,
   "metadata": {},
   "outputs": [],
   "source": [
    "# You might want to have an install cell, if your workshop uses a special package\n",
    "# e.g.,\n",
    "# !pip install [PACKAGE]"
   ]
  },
  {
   "cell_type": "code",
   "execution_count": null,
   "metadata": {},
   "outputs": [],
   "source": [
    "# You might want to have an import cell, so that you can do all imports at the beginning.\n",
    "# e.g.,\n",
    "# import numpy as np\n",
    "# import pandas as pd"
   ]
  },
  {
   "cell_type": "markdown",
   "metadata": {
    "tags": []
   },
   "source": [
    "## Subsection [EDIT ME]\n",
    "\n",
    "Use H2 headers for subsections. These **do not** need to be linked to in the Learning Objectives at the top of the notebook."
   ]
  },
  {
   "cell_type": "markdown",
   "metadata": {},
   "source": [
    "### Subsubsection [EDIT ME]\n",
    "\n",
    "Use H3 headers for subsubsections."
   ]
  },
  {
   "cell_type": "markdown",
   "metadata": {},
   "source": [
    "<a id='section2'></a>\n",
    "\n",
    "# Section Name [EDIT ME]\n",
    "\n"
   ]
  },
  {
   "cell_type": "markdown",
   "metadata": {
    "tags": []
   },
   "source": [
    "## 🥊 Challenge: [Name of challenge]\n",
    "\n",
    "- Challenges are typically formatted as subsection (##).\n",
    "- Challenges have names.\n",
    "- Keep challenges short: 5-10 minutes.\n",
    "- Don't use \"Bonus Challenges\" or the like. If really needed, use a \"Take-Home Challenge\" (1 max!) so it's clear these can be completed outside the workshop.\n",
    "- You can work through challenges by interacting with participants and allowing them to paste in chat, or by letting them work on their own.\n",
    "- If letting participants work on their own, **don't just show them the answer afterwards** but make sure to let them answer in chat and take them through the answer.\n",
    "\n",
    "### *Example:*\n",
    "\n",
    "## 🥊 Challenge: Printing!\n",
    "\n",
    "Write your own `print` statement in the code cell below. Follow the syntax of the example above, and change the text in the quotation marks.\n"
   ]
  },
  {
   "cell_type": "code",
   "execution_count": null,
   "metadata": {},
   "outputs": [],
   "source": [
    "# You may have some starter code for the challenge that you can put in its own cell.\n",
    "# Always have a following cell that says \"YOUR CODE HERE\" with a few empty lines beneath it, \n",
    "# so that attendees know where to put their code."
   ]
  },
  {
   "cell_type": "code",
   "execution_count": 4,
   "metadata": {},
   "outputs": [],
   "source": [
    "# YOUR CODE HERE\n",
    "\n",
    "\n"
   ]
  },
  {
   "cell_type": "markdown",
   "metadata": {},
   "source": [
    "💡 **Tip**: Keep them short and to the point. \n",
    "\n",
    "### *Example:*\n",
    "\n",
    "💡 **Tip**: A method is written with parenteses: e.g. `gap.value_counts()`. An attribute is written without parentheses: e.g. `gap.columns`.\n"
   ]
  },
  {
   "cell_type": "markdown",
   "metadata": {},
   "source": [
    "## 💡 Tip: [Name of tip]\n",
    "- Tips can be formatted as subsection (##) when they're more substantial.\n",
    "- Keep text short. Use links to relevant materials when needed.\n"
   ]
  },
  {
   "cell_type": "markdown",
   "metadata": {},
   "source": [
    "🔔 **Question:** These are typically written in-line (no subsection header). They do not require participants to enter code. Scatter them throughout the notebook as attention checks, and discuss them during the workshop. Keep them short.\n",
    "\n",
    "*Example:*\n",
    "\n",
    "🔔 **Question**: what will the output of the following code be?"
   ]
  },
  {
   "cell_type": "code",
   "execution_count": null,
   "metadata": {},
   "outputs": [],
   "source": [
    "numbers = [12, 20, 43, 88, 97, 100, 105, 110]\n",
    "\n",
    "for number in numbers:\n",
    "    if number > 100:\n",
    "        print(number, 'is greater than 100.')"
   ]
  },
  {
   "cell_type": "markdown",
   "metadata": {},
   "source": [
    "⚠️ **Warning:** These are written in-line, and act as short reminders to participants of common mistakes and errors. \n",
    "\n",
    "### *Example:*\n",
    "\n",
    "⚠️ **Warning:** Jupyter remembers all lines of code it executed, **even if it's not currently displayed in the notebook**. Deleting a line of code does not delete it from the notebook's memory if it has already been run! This can cause a lot of confusion."
   ]
  },
  {
   "cell_type": "markdown",
   "metadata": {},
   "source": [
    "<a id='refl'></a>\n",
    "\n",
    "# 💭 Reflection: [Title of Reflection]\n",
    "\n",
    "Reflections are longer pieces of text that need to be discussed in the workshop, and that can be referred to by participants when working on their own. They can be their own section, referred to in the Learnin Objectives. Keep them as short and colloquial as possible. Don't use jargon if you can avoid it.\n",
    "\n",
    "\n",
    "### *Example:*\n",
    "\n",
    "# 💭 Reflection: What it Means to \"Know How to Code\"\n",
    "\n",
    "Python is a general-purpose, powerful, and high-level programming language, which makes it a very useful language to be comfortable with. Python can be used for many tasks, from building websites and software, to automating tasks, to conducting data analysis.\n",
    "\n",
    "This workshop will take you through the fundamentals of Python with a focus on data analysis. But just as important is knowing *how to code* in general, as opposed to \"knowing\" Python, R, Matlab, or any other specific language. This is not a matter of memorization, but of a set of problem solving skills.\n",
    "\n",
    "A programmer knows 1) general structures and programming logic, 2) how to find and use new functions, and 3) how to work through problems that arise. It is these three aspects we want to give you an intuition for.\n",
    "\n",
    "When you're programming, 80% or more of your time will be spent debugging, looking stuff up (like program-specific syntax, [documentation](https://github.com/dlab-berkeley/python-intensive/blob/master/glossary.md#documentation) for packages, useful functions, etc.), or testing. Relatively little time is actually spent typing out the code - most of it goes into the thinking, planning, and testing to ensure well-designed code!\n"
   ]
  },
  {
   "cell_type": "markdown",
   "metadata": {
    "tags": []
   },
   "source": [
    "<a id='demo'></a>\n",
    "\n",
    "\n",
    "# 🎬 Demo: [Title of demo]\n",
    "\n",
    "Demos can be used at the end of a notebook to show / highlight some advanced functionalities outside the scope of the workshop. Use them as main sections (#) that are linked to in the Learning Objectives at the top of the notebook.\n",
    "\n",
    "- Only one per notebook can be used.\n",
    "- Use them to enthuse participants, and to point them to relevant other D-Lab workshops.\n",
    "- Make sure to walk through the functionality; don't skip over them.\n",
    "- Keep them short: 5-10 mins max.\n",
    "\n",
    "### *Example:*"
   ]
  },
  {
   "cell_type": "markdown",
   "metadata": {
    "tags": []
   },
   "source": [
    "# 🎬 Demo: Working with Data Frames\n",
    "\n",
    "To cap off this workshop, here's a demo to see what reproducible data science with Python looks like.\n",
    "Just run the code cell below, and don't worry if you don't understand everything!\n",
    "\n",
    "* We'll be using a `pandas` DataFrame to store and manipulate the data - you'll learn more about `pandas` and DataFrames in the next workshop!\n",
    "* Our data comes from the California Health Interview Survey (CHIS), the nation's largest state health survey. \n",
    "\n",
    "Let's have a look at the data:"
   ]
  },
  {
   "cell_type": "code",
   "execution_count": null,
   "metadata": {},
   "outputs": [],
   "source": [
    "import pandas as pd\n",
    "\n",
    "# Reading in a comma-seperated values file\n",
    "chis_df = pd.read_csv('SOME_FILE')\n",
    "chis_df.head()"
   ]
  },
  {
   "cell_type": "markdown",
   "metadata": {},
   "source": [
    "Looks like we have a bunch of information here. Let's focus on the column for the number of sodas people have per day (the \"number_sodas\" column), and whether people rent or own a house (the \"tenure\" column).\n",
    "\n",
    "In the next steps, we'll...\n",
    "1. change the datatype of a column,\n",
    "2. create dummy variables (variables that take values of 0 and 1), and \n",
    "3. group our data.\n",
    "\n",
    "This allows us to calculate the average amount of sodas consumed by people who do and do not own a house."
   ]
  },
  {
   "cell_type": "code",
   "execution_count": null,
   "metadata": {},
   "outputs": [],
   "source": [
    "# Changing the data type of a column\n",
    "chis_df['number_sodas'] = chis_df['number_sodas'].astype(float)\n",
    "\n",
    "# Creating dummy variables\n",
    "chis_dummies = pd.get_dummies(chis_df, columns=['tenure'])\n",
    "\n",
    "# Grouping the average number of consumed sodas by people who own a house\n",
    "chis_dummies['number_sodas'].groupby(chis_dummies['tenure_OWN']).mean()"
   ]
  }
 ],
 "metadata": {
  "kernelspec": {
   "display_name": "Python 3 (ipykernel)",
   "language": "python",
   "name": "python3"
  },
  "language_info": {
   "codemirror_mode": {
    "name": "ipython",
    "version": 3
   },
   "file_extension": ".py",
   "mimetype": "text/x-python",
   "name": "python",
   "nbconvert_exporter": "python",
   "pygments_lexer": "ipython3",
   "version": "3.8.13"
  }
 },
 "nbformat": 4,
 "nbformat_minor": 4
}
