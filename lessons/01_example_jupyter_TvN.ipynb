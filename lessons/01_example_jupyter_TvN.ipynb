{
 "cells": [
  {
   "cell_type": "markdown",
   "metadata": {},
   "source": [
    "# 1 - Title of Notebook\n",
    "\n",
    "* * * \n",
    "\n",
    "### Icons used in this notebook\n",
    "🔔 **Question**: A quick question to help you understand what's going on.<br>\n",
    "🥊 **Challenge**: Interactive excersise. We'll work through these in the workshop!<br>\n",
    "💭 **Reflection**: Helping you think about programming.<br>\n",
    "⚠️ **Warning**: Heads-up about tricky stuff or common mistakes.<br>\n",
    "💡 **Tip**: How to do something a bit more efficiently or effectively.<br>\n",
    "🎬 **Demo**: Showing off something more advanced – so you know what Python can be used for!<br>\n",
    "\n",
    "### Learning Objectives\n",
    "1. [Section 1](#section1)\n",
    "2. [Section 2](#section2)\n",
    "3. [Section 3](#section3)"
   ]
  },
  {
   "cell_type": "markdown",
   "metadata": {
    "tags": []
   },
   "source": [
    "<a id='section1'></a>\n",
    "\n",
    "# Section 1\n",
    "\n",
    "Main sections should be an H1 (one hashtag) header. They are linked to in the Learning Objectives. Use `<a id='section_name'></a>` at the top of the markdown cell to create the link."
   ]
  },
  {
   "cell_type": "markdown",
   "metadata": {},
   "source": [
    "Be sure to have text between code cells explaining the material, step-by-step.\n",
    "\n",
    "Tips for markdown cells:\n",
    "- Keep text limited! \n",
    "- Use colloquial languague and minimal jargon; if you need it, explain it.\n",
    "- Use **boldface** to highlight important terms, but use it sparingly.\n",
    "- Use en-dash for lists.\n",
    "- Consistently use emoji for relevant sections. Here are some examples:\n",
    "\n",
    "🔔 **Question:** Click on the code cell below and press **Shift + enter**! What happens?\n",
    "🥊 **Challenge**: Write your own `print` statement in the code cell below. Follow the syntax of the example above, and change the text in the quotation marks.\n",
    "💡 **Tip**: To print multiple values, separate each item to print with a comma.\n",
    "⚠️ **Warning:** Jupyter remembers all lines of code it executed, **even if it's not currently displayed in the notebook**. Deleting a line of code does not delete it from the notebook's memory if it has already been run! This can cause a lot of confusion."
   ]
  },
  {
   "cell_type": "code",
   "execution_count": 3,
   "metadata": {},
   "outputs": [],
   "source": [
    "# Code cells\n",
    "\n",
    "# Comments:\n",
    "# Use comments sparingly: better to explain in markdown!\n",
    "# Use comments to further specify particular lines of code when needed.\n",
    "\n",
    "# Coding style: \n",
    "# Use snake case and single quotation marks.\n",
    "some_variable = 'Hello world'\n",
    "\n",
    "# Data: \n",
    "# use relevant social science datasets whenever you can. \n",
    "# Think health data, demographics, etc.\n",
    "# Stay away from \"impersonal\" datasets like the Iris dataset.\n",
    "# Use a \"data\" folder in the main repo to store data"
   ]
  },
  {
   "cell_type": "code",
   "execution_count": null,
   "metadata": {},
   "outputs": [],
   "source": [
    "# You might want to have an install cell, if your workshop uses a special package\n",
    "# e.g.,\n",
    "# !pip install [PACKAGE]"
   ]
  },
  {
   "cell_type": "code",
   "execution_count": null,
   "metadata": {},
   "outputs": [],
   "source": [
    "# You might want to have an import cell, so that you can do all imports at the beginning.\n",
    "# e.g.,\n",
    "# import numpy as np\n",
    "# import pandas as pd"
   ]
  },
  {
   "cell_type": "markdown",
   "metadata": {
    "tags": []
   },
   "source": [
    "## Subsection\n",
    "\n",
    "Use H2 headers for subsections. These **do not** need to be linked to in the Learning Objectives at the top of the notebook."
   ]
  },
  {
   "cell_type": "markdown",
   "metadata": {},
   "source": [
    "### Subsubsection\n",
    "\n",
    "Use H3 headers for subsubsections."
   ]
  },
  {
   "cell_type": "markdown",
   "metadata": {},
   "source": [
    "<a id='section2'></a>\n",
    "\n",
    "# Section 2\n",
    "\n"
   ]
  },
  {
   "cell_type": "markdown",
   "metadata": {
    "tags": []
   },
   "source": [
    "## 🥊 Challenge: [Name of challenge]\n",
    "\n",
    "- Challenges are typically formatted as subsection (##)\n",
    "- Keep challenges short: 5-10 minutes.\n",
    "- Don't use \"Bonus Challenges\" or the like. If really needed, use a \"Take-home challenge\" (1 max!) so it's clear these can be completed outside the workshop.\n",
    "- You can work through challenges by interacting with participants and allowing them to paste in chat, or by letting them work on their own.\n",
    "- If letting participants work on their own, **don't just show them the answer afterwards** but make sure to let them answer in chat and take them through the answer."
   ]
  },
  {
   "cell_type": "code",
   "execution_count": null,
   "metadata": {},
   "outputs": [],
   "source": [
    "# You may have some starter code for the challenge that you can put in its own cell.\n",
    "# Always have a following cell that says \"YOUR CODE HERE\" with a few empty lines beneath it, \n",
    "# so that attendees know where to put their code."
   ]
  },
  {
   "cell_type": "code",
   "execution_count": 4,
   "metadata": {},
   "outputs": [],
   "source": [
    "# YOUR CODE HERE\n",
    "\n",
    "\n"
   ]
  },
  {
   "cell_type": "markdown",
   "metadata": {},
   "source": [
    "<a id='section3'></a>\n",
    "\n",
    "# Section 3\n",
    "\n"
   ]
  },
  {
   "cell_type": "markdown",
   "metadata": {},
   "source": [
    "## 💡 Tip: [Name of tip]\n",
    "- Tips can be formatted as subsection (##) when they're more substantial.\n",
    "- Keep text short. Use links to relevant materials when needed.\n"
   ]
  },
  {
   "cell_type": "markdown",
   "metadata": {
    "tags": []
   },
   "source": [
    "# 🎬 Demo: [Name of demo]\n",
    "\n",
    "Demos can be used at the end of a notebook to show / highlight some advanced functionalities outside the scope of the workshop. Use them as main sections (#) that are linked to in the Learning Objectives at the top of the notebook.\n",
    "\n",
    "- Only one per notebook can be used.\n",
    "- Use them to enthuse participants, and to point them to relevant other D-Lab workshops.\n",
    "- Make sure to walk through the functionality; don't skip over them.\n",
    "- Keep them short: 5-10 mins max.\n"
   ]
  }
 ],
 "metadata": {
  "kernelspec": {
   "display_name": "Python 3 (ipykernel)",
   "language": "python",
   "name": "python3"
  },
  "language_info": {
   "codemirror_mode": {
    "name": "ipython",
    "version": 3
   },
   "file_extension": ".py",
   "mimetype": "text/x-python",
   "name": "python",
   "nbconvert_exporter": "python",
   "pygments_lexer": "ipython3",
   "version": "3.8.13"
  }
 },
 "nbformat": 4,
 "nbformat_minor": 4
}
