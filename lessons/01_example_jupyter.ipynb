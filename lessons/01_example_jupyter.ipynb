{
 "cells": [
  {
   "cell_type": "markdown",
   "id": "ab9175f4-a51c-42aa-a770-b055a1467142",
   "metadata": {},
   "source": [
    "# Workshop Name: Subtitle"
   ]
  },
  {
   "cell_type": "markdown",
   "id": "2050ae11-8d95-47bb-9d91-e93fbf73ab6e",
   "metadata": {},
   "source": [
    "The beginning of every workshop notebook should be an H1 (one hashtag) header, with the workshop name, followed by a colon, followed by a subtitle for this notebook.\n",
    "\n",
    "Provide a brief introduction to what this lesson covers here."
   ]
  },
  {
   "cell_type": "markdown",
   "id": "dbb3f3c6-144b-4a28-995a-61413e13a286",
   "metadata": {},
   "source": [
    "## Workshop Subtopic 1\n",
    "\n",
    "Provide some more text on what this subtopic covers."
   ]
  },
  {
   "cell_type": "code",
   "execution_count": null,
   "id": "f0bce24c-5d98-426b-8b4e-0a2baeee96d7",
   "metadata": {},
   "outputs": [],
   "source": [
    "# You might want to have an install cell, if your workshop uses a special package\n",
    "# e.g.,\n",
    "# !pip install [PACKAGE]"
   ]
  },
  {
   "cell_type": "code",
   "execution_count": null,
   "id": "ce75cddd-7784-4c38-81ff-f3917a6425ff",
   "metadata": {},
   "outputs": [],
   "source": [
    "# You might want to have an import cell, so that you can do all imports at the beginning.\n",
    "# e.g.,\n",
    "# import numpy as np\n",
    "# import pandas as pd"
   ]
  },
  {
   "cell_type": "markdown",
   "id": "aa960754-858e-4eec-80e3-65ca9b2b19f5",
   "metadata": {},
   "source": [
    "Be sure to have text between code cells explaining the material, step-by-step."
   ]
  },
  {
   "cell_type": "markdown",
   "id": "0b07ba91-9545-4498-9588-fea0c932afd6",
   "metadata": {},
   "source": [
    "### Workshop Sub-subtopic 1\n",
    "\n",
    "Perhaps your subtopic will be divided into finer sub-subtopics. Be sure to use consistent headers for each one, and always have an introductory paragraph explaining what the workshop attendee can expect with this section."
   ]
  },
  {
   "cell_type": "markdown",
   "id": "140aae33-c9e2-4f17-b16c-ab01015740e3",
   "metadata": {},
   "source": [
    "---\n",
    "\n",
    "### Challenge #: Challenge Title Here\n",
    "\n",
    "Every challenge should be an H3 (3 hashtags) header, with lines separating the top and bottom of the cell, so that it stands out. The challenge should be numbered, and should have a title.\n",
    "\n",
    "Insert some text here explaining the challenge.\n",
    "\n",
    "---"
   ]
  },
  {
   "cell_type": "code",
   "execution_count": null,
   "id": "27a0b302-d2db-4583-a7fe-376d22c25aa8",
   "metadata": {},
   "outputs": [],
   "source": [
    "# You may have some starter code for the challenge that you can put in its own cell\n",
    "# Always have a following cell that says \"YOUR CODE HERE\", so that attendees know where to put their code"
   ]
  },
  {
   "cell_type": "code",
   "execution_count": null,
   "id": "390cb649-920f-4fef-b2b3-55a1db442570",
   "metadata": {},
   "outputs": [],
   "source": [
    "# YOUR CODE HERE"
   ]
  },
  {
   "cell_type": "markdown",
   "id": "5bc575dc-a84c-4004-b31f-4e0b104f5e39",
   "metadata": {},
   "source": [
    "# Optional: Closing Section\n",
    "\n",
    "You may optionally include a summary section at the end of the workshop highlighting what this notebook covered."
   ]
  }
 ],
 "metadata": {
  "kernelspec": {
   "display_name": "Python 3 (ipykernel)",
   "language": "python",
   "name": "python3"
  },
  "language_info": {
   "codemirror_mode": {
    "name": "ipython",
    "version": 3
   },
   "file_extension": ".py",
   "mimetype": "text/x-python",
   "name": "python",
   "nbconvert_exporter": "python",
   "pygments_lexer": "ipython3",
   "version": "3.8.12"
  }
 },
 "nbformat": 4,
 "nbformat_minor": 5
}
